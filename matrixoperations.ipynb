{
  "nbformat": 4,
  "nbformat_minor": 0,
  "metadata": {
    "colab": {
      "provenance": [],
      "authorship_tag": "ABX9TyMHbcv1B3+t89UiH0inQlzN",
      "include_colab_link": true
    },
    "kernelspec": {
      "name": "python3",
      "display_name": "Python 3"
    },
    "language_info": {
      "name": "python"
    }
  },
  "cells": [
    {
      "cell_type": "markdown",
      "metadata": {
        "id": "view-in-github",
        "colab_type": "text"
      },
      "source": [
        "<a href=\"https://colab.research.google.com/github/Eddychege/repostudy/blob/main/matrixoperations.ipynb\" target=\"_parent\"><img src=\"https://colab.research.google.com/assets/colab-badge.svg\" alt=\"Open In Colab\"/></a>"
      ]
    },
    {
      "cell_type": "code",
      "execution_count": 3,
      "metadata": {
        "colab": {
          "base_uri": "https://localhost:8080/"
        },
        "id": "9ucTyJF1gEJ3",
        "outputId": "f2d19426-f0c4-445a-db5e-17e2634a32dc"
      },
      "outputs": [
        {
          "output_type": "stream",
          "name": "stdout",
          "text": [
            "x: [1. 4. 0.]\n",
            "y: [2. 2. 1.]\n",
            "Dot product of x and y: 10.0\n",
            "Outer product of x and y: [[2. 2. 1.]\n",
            " [8. 8. 4.]\n",
            " [0. 0. 0.]]\n",
            "Inner product of x and y: 10.0\n",
            "Cross product of x and y: [ 4. -1. -6.]\n"
          ]
        }
      ],
      "source": [
        "import numpy as np\n",
        "x=np.array([1,4,0],float)\n",
        "y=np.array([2,2,1],float)\n",
        "print(\"x:\",x)\n",
        "print(\"y:\",y)\n",
        "\n",
        "print(\"Dot product of x and y:\", np.dot(x,y))\n",
        "print(\"Outer product of x and y:\", np.outer(x,y))\n",
        "print(\"Inner product of x and y:\", np.inner(x,y))\n",
        "print(\"Cross product of x and y:\", np.cross(x,y))\n"
      ]
    }
  ]
}